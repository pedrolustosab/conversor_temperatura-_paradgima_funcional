{
  "nbformat": 4,
  "nbformat_minor": 0,
  "metadata": {
    "colab": {
      "provenance": []
    },
    "kernelspec": {
      "name": "python3",
      "display_name": "Python 3"
    },
    "language_info": {
      "name": "python"
    }
  },
  "cells": [
    {
      "cell_type": "markdown",
      "source": [
        "\n",
        "#Paradigma Funcional\n",
        "O paradigma funcional é uma das abordagens mais importantes na programação, centrando-se na utilização de funções para modular e dividir o trabalho em pequenos blocos de código reutilizáveis, que recebem dados de entrada (parâmetros) e fornecem resultados. Além disso, esse paradigma facilita a manutenção e o processo de depuração, uma vez que permite ao programador testar cada função de forma isolada, tornando o programa mais previsível.\n",
        "\n",
        "\n"
      ],
      "metadata": {
        "id": "kYzbb_20ztaD"
      }
    },
    {
      "cell_type": "markdown",
      "source": [
        "#Conversor de Temperatura\n",
        "Este código em Python foi desenvolvido usando o paradigma funcional para criar um conversor de temperatura. Os dados de entradas consistem nas letras iniciais das temperaturas correspondentes: Celsius ('C'), Kelvin ('K') ou Fahrenheit ('F') tanto para a escala original quanto para a escala desejada e o valor que se deseja converter."
      ],
      "metadata": {
        "id": "7Vr0exKS10-h"
      }
    },
    {
      "cell_type": "markdown",
      "source": [
        "#Escopo\n",
        "\n",
        "A estrutura do programa inclui:\n",
        "\n",
        "Funções de conversão: Um conjunto de funções de conversão bem definidas, como kelvin_to_celsius, kelvin_to_fahrenheit, etc., que realizam os cálculos apropriados para as conversões de temperatura.\n",
        "\n",
        "Um dicionário de operações: O dicionário OPERACOES mapeia as escalas de temperatura de origem e destino às funções de conversão correspondentes, permitindo que o programa determine qual função usar com base nas escolhas do usuário.\n",
        "\n",
        "Funções interativas: O programa inclui funções interativas, como menu, obter_opcoes e obter_valor, que permitem ao usuário selecionar as escalas de temperatura e inserir a temperatura desejada.\n",
        "\n",
        "Verificação do zero absoluto: O programa verifica se a temperatura convertida está acima do zero absoluto na escala de saída e informa o usuário caso contrário.\n",
        "\n",
        "Loop de repetição: O programa é projetado para rodar em um loop, permitindo ao usuário realizar várias conversões consecutivas antes de optar por sair.\n",
        "\n",
        "\n",
        "\n",
        "\n",
        "\n"
      ],
      "metadata": {
        "id": "bPVW1uwH3H_3"
      }
    },
    {
      "cell_type": "code",
      "source": [
        "def valida_opcoes(valor: str, opcoes: list) -> bool:\n",
        "    # Verificamos se o valor está presente na lista de opções.\n",
        "    return valor in opcoes"
      ],
      "metadata": {
        "id": "5094-Nfk3whG"
      },
      "execution_count": 4,
      "outputs": []
    },
    {
      "cell_type": "code",
      "source": [
        "def verifica_zero_absoluto(valor: float, escala: str, operacoes: dict) -> bool:\n",
        "\n",
        "    # Verifica se a escala não é Kelvin ('K'), e se não for, converte o valor para Kelvin.\n",
        "    if escala != 'K':\n",
        "        # Usamos map com a função de conversão apropriada da escala para Kelvin.\n",
        "        valor, = tuple(map(operacoes[escala]['K'], (valor,)))\n",
        "\n",
        "    # Verifica se o valor está maior ou igual a zero, que representa o zero absoluto em Kelvin.\n",
        "    return valor >= 0"
      ],
      "metadata": {
        "id": "Cz9ZB4FN4qbx"
      },
      "execution_count": 5,
      "outputs": []
    },
    {
      "cell_type": "code",
      "source": [
        "def obter_opcoes(opcoes, msg='Opções'):\n",
        "    # Construindo a mensagem com as opções disponíveis\n",
        "    msg = f\"{msg} ({' | '.join([f'{key} - {value}' for key, value in opcoes.items()])}):\"\n",
        "\n",
        "    while True:\n",
        "        # Solicitando que o usuário insira uma opção\n",
        "        valor = input(msg).upper()\n",
        "\n",
        "        # Verificando se a opção inserida é válida usando a função valida_opcoes\n",
        "        if valida_opcoes(valor, opcoes.keys()):\n",
        "            break\n",
        "\n",
        "        # Se a opção não for válida, gerando uma mensagem de erro\n",
        "        msg = f'Entrada Inválida! As opções válidas são {\", \".join(opcoes.keys())}\\n' + msg\n",
        "\n",
        "    # Retornando a opção válida inserida pelo usuário\n",
        "    return valor"
      ],
      "metadata": {
        "id": "xviGeOD95Iwo"
      },
      "execution_count": 6,
      "outputs": []
    },
    {
      "cell_type": "code",
      "source": [
        "def obter_valor(msg='', func=float):\n",
        "\n",
        "    while True:\n",
        "        valor = input(msg)\n",
        "        try:\n",
        "            # Tenta converter o valor usando a função especificada (por padrão, float).\n",
        "            return func(valor)\n",
        "        except ValueError:\n",
        "            # Se ocorrer um erro de conversão, gera uma mensagem de erro.\n",
        "            msg = f'Entrada Inválida! {msg}'"
      ],
      "metadata": {
        "id": "SXU61cYu6LqS"
      },
      "execution_count": 8,
      "outputs": []
    },
    {
      "cell_type": "code",
      "source": [
        "def menu():\n",
        "\n",
        "    # Dicionário de opções para escolher a escala de temperatura\n",
        "    opcoes = {'C': 'Celsius', 'F': 'Fahrenheit', 'K': 'Kelvin'}\n",
        "\n",
        "    # Solicitar ao usuário que escolha a escala de temperatura de entrada\n",
        "    escala_entrada = obter_opcoes(opcoes, 'Escolha a escala de entrada')\n",
        "\n",
        "    # Solicitar ao usuário que escolha a escala de temperatura de saída\n",
        "    escala_saida = obter_opcoes(opcoes, 'Escolha a escala de saída')\n",
        "\n",
        "    # Solicitar ao usuário que insira a temperatura\n",
        "    temperatura = obter_valor('Entre com a temperatura: ')\n",
        "\n",
        "    # Retornar as informações coletadas em uma tupla\n",
        "    return escala_entrada, escala_saida, temperatura"
      ],
      "metadata": {
        "id": "FEKTtWuH6q1w"
      },
      "execution_count": 7,
      "outputs": []
    },
    {
      "cell_type": "code",
      "source": [
        "# Funções de Conversões\n",
        "def kelvin_to_celsius(valor: float) -> float:\n",
        "\treturn valor - 273\n",
        "\n",
        "def kelvin_to_fahrenheit(valor: float) -> float:\n",
        "    return (valor - 273) * 1.8 + 32\n",
        "\n",
        "def celsius_to_kelvin(valor: float) -> float:\n",
        "    return valor + 273\n",
        "\n",
        "def celsius_to_fahrenheit(valor: float) -> float:\n",
        "    return 1.8 * valor + 32\n",
        "\n",
        "def fahrenheit_to_celsius(valor: float) -> float:\n",
        "    return (valor - 32) / 1.8\n",
        "\n",
        "def fahrenheit_to_kelvin(valor: float) -> float:\n",
        "    return (valor - 32) * 5/9 + 273\n",
        "\n",
        "def mesma_op(valor: float) -> float:\n",
        "    return valor"
      ],
      "metadata": {
        "id": "l2DkuymV64QW"
      },
      "execution_count": 12,
      "outputs": []
    },
    {
      "cell_type": "code",
      "source": [
        "# Dicionário de operações de conversão entre escalas de temperatura\n",
        "OPERACOES = {\n",
        "    'K': {\n",
        "        'C': kelvin_to_celsius,  # Função para converter de Kelvin para Celsius\n",
        "        'F': kelvin_to_fahrenheit,  # Função para converter de Kelvin para Fahrenheit\n",
        "        'K': mesma_op  # Função que mantém o valor inalterado (mesma escala)\n",
        "    },\n",
        "    'C': {\n",
        "        'K': celsius_to_kelvin,  # Função para converter de Celsius para Kelvin\n",
        "        'F': celsius_to_fahrenheit,  # Função para converter de Celsius para Fahrenheit\n",
        "        'C': mesma_op  # Função que mantém o valor inalterado (mesma escala)\n",
        "    },\n",
        "    'F': {\n",
        "        'C': fahrenheit_to_celsius,  # Função para converter de Fahrenheit para Celsius\n",
        "        'K': fahrenheit_to_kelvin,  # Função para converter de Fahrenheit para Kelvin\n",
        "        'F': mesma_op  # Função que mantém o valor inalterado (mesma escala)\n",
        "    }\n",
        "}"
      ],
      "metadata": {
        "id": "Xoo-GmBj7LKd"
      },
      "execution_count": 13,
      "outputs": []
    },
    {
      "cell_type": "code",
      "source": [
        "# Loop principal que permite ao usuário realizar conversões repetidamente\n",
        "while True:\n",
        "    # Chama a função menu para obter as escalas de entrada, saída e a temperatura a ser convertida (empacotamento)\n",
        "    escala_entrada, escala_saida, temperatura = menu()\n",
        "\n",
        "    # Realiza a conversão usando as funções do dicionário OPERACOES. A função MAP precisa de um interável e utilizou-se uma tupla devido sua imutabilidade\n",
        "    temperatura_saida, = tuple(map(OPERACOES[escala_entrada][escala_saida], (temperatura,)))\n",
        "\n",
        "    # Verifica se a temperatura de saída está abaixo do zero absoluto na escala de saída\n",
        "    if verifica_zero_absoluto(temperatura_saida, escala_saida, OPERACOES):\n",
        "        # Se estiver acima do zero absoluto, exibe o resultado da conversão\n",
        "        print(f'Conversão {escala_entrada} -> {escala_saida}: {temperatura_saida}')\n",
        "    else:\n",
        "        # Caso contrário, informa que a temperatura está abaixo do zero absoluto\n",
        "        print('A temperatura informada está abaixo do zero absoluto!')\n",
        "\n",
        "    # Pergunta se o usuário deseja continuar ou sair do programa\n",
        "    if obter_opcoes({'S': 'Sim', 'N': 'Não'}, 'Deseja Sair') == 'S':\n",
        "        break"
      ],
      "metadata": {
        "colab": {
          "base_uri": "https://localhost:8080/"
        },
        "id": "d-OGgdkL7jtV",
        "outputId": "23dee4fd-605d-48ea-929a-5ddac5bc0db7"
      },
      "execution_count": 14,
      "outputs": [
        {
          "name": "stdout",
          "output_type": "stream",
          "text": [
            "Escolha a escala de entrada (C - Celsius | F - Fahrenheit | K - Kelvin):l\n",
            "Entrada Inválida! As opções válidas são C, F, K\n",
            "Escolha a escala de entrada (C - Celsius | F - Fahrenheit | K - Kelvin):c\n",
            "Escolha a escala de saída (C - Celsius | F - Fahrenheit | K - Kelvin):g\n",
            "Entrada Inválida! As opções válidas são C, F, K\n",
            "Escolha a escala de saída (C - Celsius | F - Fahrenheit | K - Kelvin):k\n",
            "Entre com a temperatura: -274\n",
            "A temperatura informada está abaixo do zero absoluto!\n",
            "Deseja Sair (S - Sim | N - Não):n\n",
            "Escolha a escala de entrada (C - Celsius | F - Fahrenheit | K - Kelvin):c\n",
            "Escolha a escala de saída (C - Celsius | F - Fahrenheit | K - Kelvin):k\n",
            "Entre com a temperatura: 0\n",
            "Conversão C -> K: 273.0\n",
            "Deseja Sair (S - Sim | N - Não):s\n"
          ]
        }
      ]
    },
    {
      "cell_type": "markdown",
      "source": [
        "#Conclusão\n",
        "\n",
        "\n",
        "\n",
        "O programa fornece uma maneira eficaz e amigável para converter temperaturas em diferentes escalas e é uma demonstração prática do uso de conceitos como validação de entrada, funções de conversão e interatividade com o usuário. Certamente, é uma ferramenta útil para quem precisa realizar conversões de temperatura de forma prática e confiável."
      ],
      "metadata": {
        "id": "gHd54pqD8xAA"
      }
    }
  ]
}